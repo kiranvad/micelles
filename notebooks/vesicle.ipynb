{
 "cells": [
  {
   "cell_type": "code",
   "execution_count": 1,
   "metadata": {},
   "outputs": [],
   "source": [
    "import numpy as np\n",
    "import matplotlib.pyplot as plt\n",
    "from math import expm1\n",
    "from scipy.special import j1 as B1"
   ]
  },
  {
   "cell_type": "code",
   "execution_count": null,
   "metadata": {},
   "outputs": [],
   "source": [
    "def sas_sinx_x(x):\n",
    "    if np.isclose(x, 0.0):\n",
    "        return 1.0\n",
    "    else:\n",
    "        return np.sin(x)/x"
   ]
  },
  {
   "cell_type": "code",
   "execution_count": 2,
   "metadata": {},
   "outputs": [],
   "source": [
    "def get_contrasts(d):\n",
    "    rho_solv = 1\n",
    "\n",
    "    if d==1:\n",
    "        # Homogenous\n",
    "        rho_s = rho_solv+1\n",
    "        rho_c = rho_solv+1\n",
    "    if d==2:\n",
    "        # Shell\n",
    "        rho_s = rho_solv\n",
    "        rho_c = rho_solv+1\n",
    "    if d==3:\n",
    "        # core\n",
    "        rho_s = rho_solv+1\n",
    "        rho_c = rho_solv\n",
    "\n",
    "    return rho_solv, rho_s, rho_c\n",
    "\n",
    "# Example (units in Å)\n",
    "Vc = 4000\n",
    "Vs = 4000\n",
    "eps = 2\n",
    "R = 40\n",
    "L = 100\n",
    "N = 67\n",
    "Rg = 10\n",
    "d = 1.0\n",
    "rho_solv, rho_s, rho_c = get_contrasts(2)\n",
    "V_total = N*(Vs+Vc) "
   ]
  },
  {
   "cell_type": "code",
   "execution_count": 4,
   "metadata": {},
   "outputs": [],
   "source": [
    "def micelle_warmlike_kernel(q,\n",
    "        v_core=None,\n",
    "        v_corona=None,\n",
    "        v_total=None,\n",
    "        sld_solvent=None,\n",
    "        sld_core=None,\n",
    "        sld_corona=None,\n",
    "        radius_core=None,\n",
    "        rg=None,\n",
    "        length_core=None,\n",
    "        d_penetration=None,\n",
    "        n_aggreg=None):\n",
    "    \n",
    "    rho_solv = sld_solvent     # sld of solvent [1/A^2]\n",
    "    rho_core = sld_core        # sld of core [1/A^2]\n",
    "    rho_corona = sld_corona    # sld of corona [1/A^2]\n",
    "\n",
    "    beta_core = v_core * (rho_core - rho_solv)\n",
    "    beta_corona = v_corona * (rho_corona - rho_solv)\n",
    "\n",
    "    # Self-correlation term of the core\n",
    "    qL = q*length_core\n",
    "    bes_core = sas_sinx_x(qL/2)\n",
    "    Fcs = bes_core**2\n",
    "    qR = q*(radius_core+d_penetration*rg)\n",
    "    FR = (2/(qR**2)) * (1 - B1(2*qR)/qR)\n",
    "    Fs = Fcs*FR\n",
    "    term1 = np.power(n_aggreg*beta_core, 2)*Fs\n",
    "\n",
    "    # Self-correlation term of the chains\n",
    "    qrg2 = np.power(q*rg, 2)\n",
    "    debye_chain = 1.0 if qrg2==0.0 else 2.0*(expm1(-qrg2)+qrg2)/(qrg2**2)\n",
    "    term2 = n_aggreg * (beta_corona**2) * debye_chain\n",
    "\n",
    "    # Interference cross-term between core and chains\n",
    "    qrg = q*rg\n",
    "    chain_ampl =  1.0 if qrg==0.0 else -expm1(-qrg)/qrg\n",
    "    bes_corona = np.cos(q*(0.5*length_core + d_penetration*rg))\n",
    "    Ssc = chain_ampl*bes_core*bes_corona*FR\n",
    "    term3 = 2.0 * (n_aggreg**2) * beta_core * beta_corona * Ssc\n",
    "\n",
    "    # Interference cross-term between chains\n",
    "    Scc = (chain_ampl**2) * (bes_corona**2) * FR\n",
    "    term4 = n_aggreg * (n_aggreg - 1.0)* (beta_corona**2)*Scc\n",
    "\n",
    "    # I(q)_micelle : Sum of 4 terms computed above\n",
    "    i_micelle = term1 + term2 + term3 + term4\n",
    "\n",
    "    # Normalize intensity by total volume\n",
    "    return i_micelle/v_total"
   ]
  },
  {
   "cell_type": "code",
   "execution_count": 5,
   "metadata": {},
   "outputs": [
    {
     "name": "stdout",
     "output_type": "stream",
     "text": [
      "Computing r = 40.000 Å...\n",
      "Computing r = 80.000 Å...\n",
      "Computing r = 400.000 Å...\n",
      "Computing r = 5000.000 Å...\n"
     ]
    },
    {
     "data": {
      "image/png": "[encoded data removed]",
      "text/plain": [
       "<Figure size 432x288 with 1 Axes>"
      ]
     },
     "metadata": {
      "needs_background": "light"
     },
     "output_type": "display_data"
    }
   ],
   "source": [
    "fig, ax = plt.subplots()\n",
    "radii = [40.0, 80.0, 400.0, 5000.0]\n",
    "linestyles = ['dashed','dotted','dashdot', 'solid' ]\n",
    "rho_solv, rho_s, rho_c = get_contrasts(1)\n",
    "\n",
    "for i,ri in enumerate(radii):\n",
    "    print('Computing r = %.3f Å...'%ri)\n",
    "    params = {'v_core' : Vc,    \n",
    "            'v_corona' : Vs,\n",
    "            'v_total' : V_total,\n",
    "            'sld_solvent' : rho_solv,\n",
    "            'sld_core' : rho_s,\n",
    "            'sld_corona' : rho_c,\n",
    "            'radius_core': ri,\n",
    "            'rg': Rg,\n",
    "            'length_core': 80,\n",
    "            'd_penetration':d,\n",
    "            'n_aggreg' : N,\n",
    "            }\n",
    "    q = np.logspace(np.log10(1e-3), np.log10(1), 200)\n",
    "    Iq_micelle = np.asarray([micelle_warmlike_kernel(qi, **params) for qi in q])\n",
    "    ax.loglog(q, Iq_micelle, label='%.2f'%ri, ls=linestyles[i], color='k')\n",
    "    ax.set_ylim([1e0, 1e9])\n",
    "    ax.set_xlim([1e-3, 1e0])\n",
    "fig.legend()\n",
    "plt.show()"
   ]
  },
  {
   "cell_type": "code",
   "execution_count": null,
   "metadata": {},
   "outputs": [],
   "source": []
  }
 ],
 "metadata": {
  "kernelspec": {
   "display_name": "omiecs",
   "language": "python",
   "name": "python3"
  },
  "language_info": {
   "codemirror_mode": {
    "name": "ipython",
    "version": 3
   },
   "file_extension": ".py",
   "mimetype": "text/x-python",
   "name": "python",
   "nbconvert_exporter": "python",
   "pygments_lexer": "ipython3",
   "version": "3.8.13"
  },
  "orig_nbformat": 4
 },
 "nbformat": 4,
 "nbformat_minor": 2
}

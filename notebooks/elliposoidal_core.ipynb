{
 "cells": [
  {
   "cell_type": "code",
   "execution_count": 11,
   "metadata": {},
   "outputs": [],
   "source": [
    "import numpy as np\n",
    "import matplotlib.pyplot as plt\n",
    "from math import expm1"
   ]
  },
  {
   "cell_type": "code",
   "execution_count": 12,
   "metadata": {},
   "outputs": [],
   "source": [
    "def sas_3j1x_x(q):\n",
    "    SPH_J1C_CUTOFF = 0.1\n",
    "    if (np.fabs(q) < SPH_J1C_CUTOFF):\n",
    "        q2 = q*q\n",
    "        return (1.0 + q2*(-3./30. + q2*(3./840. + q2*(-3./45360.))))\n",
    "    else:\n",
    "        sin_q = np.sin(q)\n",
    "        cos_q = np.cos(q)\n",
    "        return 3.0*(sin_q/q - cos_q)/(q*q)\n",
    "\n",
    "def sas_sinx_x(x):\n",
    "    if np.isclose(x, 0.0):\n",
    "        return 1.0\n",
    "    else:\n",
    "        return np.sin(x)/x\n",
    "\n",
    "def get_contrasts(d):\n",
    "    rho_solv = 1\n",
    "\n",
    "    if d==1:\n",
    "        # Homogenous\n",
    "        rho_s = rho_solv+1\n",
    "        rho_c = rho_solv+1\n",
    "    if d==2:\n",
    "        # Shell\n",
    "        rho_s = rho_solv\n",
    "        rho_c = rho_solv+1\n",
    "    if d==3:\n",
    "        # core\n",
    "        rho_s = rho_solv+1\n",
    "        rho_c = rho_solv\n",
    "\n",
    "    return rho_solv, rho_s, rho_c\n",
    "\n",
    "# Example (units in Å)\n",
    "Vc = 4000\n",
    "Vs = 4000\n",
    "eps = 2\n",
    "R = 40\n",
    "Vs_total = (4/3)*np.pi*eps*(R**3)\n",
    "N = 67\n",
    "Rg = 10\n",
    "d = 1.0\n",
    "rho_solv, rho_s, rho_c = get_contrasts(2)\n",
    "V_total = N*(Vs+Vc) \n",
    "ndensity = 8.94\n",
    "\n",
    "params = {'v_core' : Vc,\n",
    "         'v_corona' : Vs,\n",
    "         'sld_solvent' : rho_solv,\n",
    "         'sld_core' : rho_s,\n",
    "         'sld_corona' : rho_c,\n",
    "         'radius_core': R,\n",
    "         'rg': Rg,\n",
    "         'eps': eps,\n",
    "         'd_penetration':d,\n",
    "         'n_aggreg' : N,\n",
    "         'v_total' : V_total \n",
    "         }"
   ]
  },
  {
   "cell_type": "code",
   "execution_count": 13,
   "metadata": {},
   "outputs": [],
   "source": [
    "def r(R, eps, alpha):\n",
    "    return R*(np.sin(alpha)**2 + (eps*np.cos(alpha))**2)**(0.5)\n",
    "\n",
    "def orientational_average(f, num_alpha = 200):\n",
    "    \"\"\" Compute orientational average\n",
    "\n",
    "    f should be a function of alpha\n",
    "    \"\"\"\n",
    "    alpha = np.linspace(0, np.pi, num=num_alpha)\n",
    "    integrand = [f(a)*np.sin(a) for a in alpha]\n",
    "\n",
    "    return np.trapz(integrand, x = alpha)"
   ]
  },
  {
   "cell_type": "code",
   "execution_count": 14,
   "metadata": {},
   "outputs": [
    {
     "data": {
      "image/png": "[encoded data removed]",
      "text/plain": [
       "<Figure size 432x288 with 1 Axes>"
      ]
     },
     "metadata": {
      "needs_background": "light"
     },
     "output_type": "display_data"
    }
   ],
   "source": [
    "def micelle_elliposidal_kernel(q,\n",
    "        v_core=None,\n",
    "        v_corona=None,\n",
    "        v_total=None,\n",
    "        sld_solvent=None,\n",
    "        sld_core=None,\n",
    "        sld_corona=None,\n",
    "        radius_core=None,\n",
    "        rg=None,\n",
    "        eps=None,\n",
    "        d_penetration=None,\n",
    "        n_aggreg=None):\n",
    "    \n",
    "    rho_solv = sld_solvent     # sld of solvent [1/A^2]\n",
    "    rho_core = sld_core        # sld of core [1/A^2]\n",
    "    rho_corona = sld_corona    # sld of corona [1/A^2]\n",
    "\n",
    "    beta_core = v_core * (rho_core - rho_solv)\n",
    "    beta_corona = v_corona * (rho_corona - rho_solv)\n",
    "\n",
    "    # Self-correlation term of the core\n",
    "    bes_core = lambda a : sas_3j1x_x(q*r(radius_core, eps, a))\n",
    "    Fs = orientational_average(lambda a : bes_core(a)**2)\n",
    "    term1 = np.power(n_aggreg*beta_core, 2)*Fs\n",
    "\n",
    "    # Self-correlation term of the chains\n",
    "    qrg2 = np.power(q*rg, 2)\n",
    "    debye_chain = 1.0 if qrg2==0.0 else 2.0*(expm1(-qrg2)+qrg2)/(qrg2**2)\n",
    "    term2 = n_aggreg * (beta_corona**2) * debye_chain\n",
    "\n",
    "    # Interference cross-term between core and chains\n",
    "    qrg = q*rg\n",
    "    chain_ampl =  1.0 if qrg==0.0 else -expm1(-qrg)/qrg\n",
    "    bes_corona = lambda a : sas_sinx_x(q*(r(radius_core, eps, a) + d_penetration * rg ))\n",
    "    Ssc = chain_ampl*orientational_average(lambda a : bes_core(a)*bes_corona(a))\n",
    "    term3 = 2.0 * (n_aggreg**2) * beta_core * beta_corona * Ssc\n",
    "\n",
    "    # Interference cross-term between chains\n",
    "    Scc = (chain_ampl**2)*orientational_average(lambda a : bes_corona(a)**2)\n",
    "    term4 = n_aggreg * (n_aggreg - 1.0)* (beta_corona**2)*Scc\n",
    "\n",
    "    # I(q)_micelle : Sum of 4 terms computed above\n",
    "    i_micelle = term1 + term2 + term3 + term4\n",
    "\n",
    "    # Normalize intensity by total volume\n",
    "    return i_micelle/v_total\n",
    "\n",
    "q = np.logspace(np.log10(1e-3), np.log10(1), 200)\n",
    "Iq_micelle = np.asarray([micelle_elliposidal_kernel(qi, **params) for qi in q])\n",
    "plt.loglog(q, Iq_micelle)\n",
    "plt.show()"
   ]
  },
  {
   "cell_type": "code",
   "execution_count": 15,
   "metadata": {},
   "outputs": [
    {
     "name": "stdout",
     "output_type": "stream",
     "text": [
      "[homogenous] :  1 2 2\n",
      "[shell] :  1 1 2\n",
      "[core] :  1 2 1\n"
     ]
    },
    {
     "data": {
      "image/png": "[encoded data removed]",
      "text/plain": [
       "<Figure size 432x288 with 1 Axes>"
      ]
     },
     "metadata": {
      "needs_background": "light"
     },
     "output_type": "display_data"
    }
   ],
   "source": [
    "fig, ax = plt.subplots()\n",
    "labels =['homogenous', 'shell', 'core']\n",
    "linestyles = ['solid','dotted','dashed' ]\n",
    "for i in range(3):\n",
    "    rho_solv, rho_s, rho_c = get_contrasts(i+1)\n",
    "    print('[%s] : '%labels[i], rho_solv, rho_s, rho_c)\n",
    "    params = {'v_core' : Vc,    \n",
    "            'v_corona' : Vs,\n",
    "            'v_total' : V_total,\n",
    "            'sld_solvent' : rho_solv,\n",
    "            'sld_core' : rho_s,\n",
    "            'sld_corona' : rho_c,\n",
    "            'radius_core': R,\n",
    "            'rg': Rg,\n",
    "            'eps': eps,\n",
    "            'd_penetration':d,\n",
    "            'n_aggreg' : N,\n",
    "            }\n",
    "    q = np.logspace(np.log10(1e-2), np.log10(1), 200)\n",
    "    Iq_micelle = np.asarray([micelle_elliposidal_kernel(qi, **params) for qi in q])\n",
    "    ax.loglog(q, Iq_micelle, label=labels[i], ls=linestyles[i], color='k')\n",
    "    ax.set_ylim([1e0, 1e6])\n",
    "    ax.set_xlim([1e-2, 1e0])\n",
    "fig.legend()\n",
    "plt.show()"
   ]
  },
  {
   "cell_type": "code",
   "execution_count": null,
   "metadata": {},
   "outputs": [],
   "source": []
  }
 ],
 "metadata": {
  "kernelspec": {
   "display_name": "omiecs",
   "language": "python",
   "name": "python3"
  },
  "language_info": {
   "codemirror_mode": {
    "name": "ipython",
    "version": 3
   },
   "file_extension": ".py",
   "mimetype": "text/x-python",
   "name": "python",
   "nbconvert_exporter": "python",
   "pygments_lexer": "ipython3",
   "version": "3.8.13"
  },
  "orig_nbformat": 4
 },
 "nbformat": 4,
 "nbformat_minor": 2
}

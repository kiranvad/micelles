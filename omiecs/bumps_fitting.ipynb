{
 "cells": [
  {
   "cell_type": "code",
   "execution_count": 1,
   "metadata": {},
   "outputs": [],
   "source": [
    "SOURCE = '/Users/pozzolabadmin/Documents/codebase/micelles/ext/sasview/src'"
   ]
  },
  {
   "cell_type": "code",
   "execution_count": 2,
   "metadata": {},
   "outputs": [
    {
     "name": "stderr",
     "output_type": "stream",
     "text": [
      "No config file found - one will be created when sasview exits\n"
     ]
    }
   ],
   "source": [
    "import numpy as np\n",
    "import pandas as pd\n",
    "import matplotlib.pyplot as plt\n",
    "import sys\n",
    "sys.path.append(SOURCE)\n",
    "import sas\n",
    "from sasmodels.core import load_model\n",
    "from sasmodels.direct_model import call_kernel\n",
    "from bumps.names import *\n",
    "from sasmodels.bumps_model import Model, Experiment\n",
    "from sasmodels.data import Data1D, load_data \n",
    "from bumps.fitters import fit"
   ]
  },
  {
   "cell_type": "code",
   "execution_count": 6,
   "metadata": {},
   "outputs": [
    {
     "name": "stderr",
     "output_type": "stream",
     "text": [
      "Traceback (most recent call last):\n",
      "  File \"/Users/pozzolabadmin/opt/anaconda3/envs/micelles/lib/python3.11/site-packages/sasdata/dataloader/loader.py\", line 79, in load\n",
      "    data_list = super().load(path, ext=ext)\n",
      "                ^^^^^^^^^^^^^^^^^^^^^^^^^^^\n",
      "  File \"/Users/pozzolabadmin/opt/anaconda3/envs/micelles/lib/python3.11/site-packages/sasdata/data_util/registry.py\", line 119, in load\n",
      "    raise NoKnownLoaderException(\"No loaders match extension in %r\"\n",
      "sasdata.data_util.loader_exceptions.NoKnownLoaderException: No loaders match extension in './subtracted_incoherent/D50F25_1dTHF50.sub'\n"
     ]
    }
   ],
   "source": [
    "from sasdata.dataloader.loader import Loader\n",
    "data_dir = './subtracted_incoherent/'\n",
    "loader_module = Loader()\n",
    "loaded_data_sets = loader_module.load(data_dir+'D50F25_1dTHF50.sub')"
   ]
  },
  {
   "cell_type": "code",
   "execution_count": null,
   "metadata": {},
   "outputs": [],
   "source": []
  }
 ],
 "metadata": {
  "kernelspec": {
   "display_name": "omiecs",
   "language": "python",
   "name": "python3"
  },
  "language_info": {
   "codemirror_mode": {
    "name": "ipython",
    "version": 3
   },
   "file_extension": ".py",
   "mimetype": "text/x-python",
   "name": "python",
   "nbconvert_exporter": "python",
   "pygments_lexer": "ipython3",
   "version": "3.11.3"
  },
  "orig_nbformat": 4
 },
 "nbformat": 4,
 "nbformat_minor": 2
}

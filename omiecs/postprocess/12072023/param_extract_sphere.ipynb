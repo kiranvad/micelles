{
 "cells": [
  {
   "cell_type": "code",
   "execution_count": null,
   "metadata": {},
   "outputs": [],
   "source": [
    "import numpy as np\n",
    "import pandas as pd\n",
    "import matplotlib.pyplot as plt\n",
    "import os, shutil, json, glob, pdb"
   ]
  },
  {
   "cell_type": "code",
   "execution_count": null,
   "metadata": {},
   "outputs": [],
   "source": [
    "DATA_DIR = '/Users/pozzolabadmin/Documents/codebase/hyak_results/micelles_omiecs/results_PEG_sph/'"
   ]
  },
  {
   "cell_type": "code",
   "execution_count": null,
   "metadata": {},
   "outputs": [],
   "source": [
    "SI = pd.read_csv('./EXPTDATA_V2/sample_info_OMIECS.csv')\n",
    "\n",
    "def get_fitted_values(fname):\n",
    "    flag = SI[\"Filename\"]=='%s.sub'%fname\n",
    "    metadata = SI[flag]\n",
    "    with open(DATA_DIR+'%s.json'%fname) as f:\n",
    "        params = json.load(f)\n",
    "\n",
    "    fit_keys = ['radius_core', 'radius_core_pd', 'rg', 'rg_pd', 'd_penetration', 'n_aggreg' ,'scale']\n",
    "    fit_vals =  [params[key] for key in keys]\n",
    "\n",
    "    return metadata, fit_keys, fit_vals \n"
   ]
  },
  {
   "cell_type": "code",
   "execution_count": null,
   "metadata": {},
   "outputs": [],
   "source": [
    "files = glob.glob(DATA_DIR+\"*.json\")\n",
    "fnames = [f.split('/')[-1].split('.')[0] for f in files]\n",
    "\n",
    "for fname in sorted(fnames):\n",
    "    metadata, fit_keys, fit_vals = get_fitted_values(fname)"
   ]
  }
 ],
 "metadata": {
  "language_info": {
   "name": "python"
  }
 },
 "nbformat": 4,
 "nbformat_minor": 2
}

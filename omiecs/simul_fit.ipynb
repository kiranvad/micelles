{
 "cells": [
  {
   "cell_type": "code",
   "execution_count": 101,
   "metadata": {},
   "outputs": [],
   "source": [
    "import numpy as np \n",
    "import matplotlib.pyplot as plt \n",
    "import pandas as pd\n",
    "from sasdata.dataloader.loader import Loader \n",
    "from bumps.names import FitProblem, FreeVariables\n",
    "from sasmodels.core import load_model\n",
    "from sasmodels.bumps_model import Model, Experiment"
   ]
  },
  {
   "cell_type": "code",
   "execution_count": 102,
   "metadata": {},
   "outputs": [],
   "source": [
    "# Following are most likely spherical micelles with a PHFBA core and PDEGEEA corona\n",
    "TESTING = True \n",
    "SLD_CORE = 1.85\n",
    "SLD_CORONA = 0.817\n",
    "SLD_SOLVENT_LIST = {'dTHF': 6.349, 'THF': 0.183, 'D2O':6.36, \n",
    "'H2O':-0.561, 'dCF': 3.156, 'dTol':5.664, 'dAcetone':5.389,\n",
    "'dTHF0':6.360, 'dTHF25':6.357, 'dTHF50':6.355, 'dTHF75':6.352,'hTHF':1.0\n",
    "}\n",
    "NUM_STEPS = 5 if TESTING else 5e2\n",
    "\n",
    "SI_FILE_LOC = './EXPTDATA_V2/sample_info_OMIECS.csv'\n",
    "DATA_DIR = './EXPTDATA_V2/inco_bg_sub/'"
   ]
  },
  {
   "cell_type": "code",
   "execution_count": 103,
   "metadata": {},
   "outputs": [],
   "source": [
    "def load_data_from_file(fname, use_trim=False):\n",
    "    SI = pd.read_csv(SI_FILE_LOC)\n",
    "    flag = SI[\"Filename\"]==fname\n",
    "    metadata = SI[flag]\n",
    "    loader = Loader()\n",
    "    data = loader.load(DATA_DIR+'%s'%fname)[0]\n",
    "    \n",
    "    if not use_trim:\n",
    "        data.qmin = min(data.x)\n",
    "        data.qmax = max(data.x)\n",
    "    else:\n",
    "        data.qmin = min(data.x)\n",
    "        data.qmax = data.x[-metadata['Highq_trim']]\n",
    "        \n",
    "    return data, metadata"
   ]
  },
  {
   "cell_type": "code",
   "execution_count": 104,
   "metadata": {},
   "outputs": [
    {
     "name": "stdout",
     "output_type": "stream",
     "text": [
      "D50F25b_10dTol.sub DEG 25b\n",
      "D50F25b_10dTHF75.sub DEG 25b\n"
     ]
    }
   ],
   "source": [
    "FIT_KEYS = [116,118,129,125,127,132,134,135,136,138,139,140,931,932,933,964,965,970,971] \n",
    "BLOCK_KEYS = [('DEG', '25b'), ('DEG', '50'), ('DEG', '75'), ('PEG', '25'), ('PEG', '50')]\n",
    "FIT_BLOCK_KEY = ('DEG', '25b') \n",
    "SIMUL_FILENAMES = [] \n",
    "SI = pd.read_csv(SI_FILE_LOC)\n",
    "for key, values in SI.iterrows():\n",
    "        if values['Sample'] in FIT_KEYS:\n",
    "                if (values['EG_group']==FIT_BLOCK_KEY[0] and values['Flor_block']==FIT_BLOCK_KEY[1]):\n",
    "                    fname = values['Filename']\n",
    "                    SIMUL_FILENAMES.append(fname)\n",
    "                    print(fname,values['EG_group'], values['Flor_block'])\n"
   ]
  },
  {
   "cell_type": "code",
   "execution_count": 105,
   "metadata": {},
   "outputs": [
    {
     "name": "stderr",
     "output_type": "stream",
     "text": [
      "Traceback (most recent call last):\n",
      "  File \"/Users/pozzolabadmin/opt/anaconda3/envs/micelles/lib/python3.11/site-packages/sasdata/dataloader/loader.py\", line 79, in load\n",
      "    data_list = super().load(path, ext=ext)\n",
      "                ^^^^^^^^^^^^^^^^^^^^^^^^^^^\n",
      "  File \"/Users/pozzolabadmin/opt/anaconda3/envs/micelles/lib/python3.11/site-packages/sasdata/data_util/registry.py\", line 119, in load\n",
      "    raise NoKnownLoaderException(\"No loaders match extension in %r\"\n",
      "sasdata.data_util.loader_exceptions.NoKnownLoaderException: No loaders match extension in './EXPTDATA_V2/inco_bg_sub/D50F25b_10dTol.sub'\n",
      "Traceback (most recent call last):\n",
      "  File \"/Users/pozzolabadmin/opt/anaconda3/envs/micelles/lib/python3.11/site-packages/sasdata/dataloader/loader.py\", line 79, in load\n",
      "    data_list = super().load(path, ext=ext)\n",
      "                ^^^^^^^^^^^^^^^^^^^^^^^^^^^\n",
      "  File \"/Users/pozzolabadmin/opt/anaconda3/envs/micelles/lib/python3.11/site-packages/sasdata/data_util/registry.py\", line 119, in load\n",
      "    raise NoKnownLoaderException(\"No loaders match extension in %r\"\n",
      "sasdata.data_util.loader_exceptions.NoKnownLoaderException: No loaders match extension in './EXPTDATA_V2/inco_bg_sub/D50F25b_10dTHF75.sub'\n"
     ]
    }
   ],
   "source": [
    "datasets = [load_data_from_file(f)[0] for f in SIMUL_FILENAMES]"
   ]
  },
  {
   "cell_type": "code",
   "execution_count": 106,
   "metadata": {},
   "outputs": [],
   "source": [
    "def setup_model(model):\n",
    "    if model=='sph':\n",
    "        sas_model = load_model(\"../models/spherical_micelle.py\")\n",
    "        bumps_model = Model(model=sas_model)\n",
    "\n",
    "    elif model=='cyl':\n",
    "        sas_model = load_model(\"../models/cylindrical_micelle.py\")\n",
    "        bumps_model = Model(model=sas_model)\n",
    "        bumps_model.length_core.range(20.0,1000.0)\n",
    "\n",
    "    elif model=='elp':\n",
    "        sas_model = load_model(\"../models/ellipsoidal_micelle.py\")\n",
    "        bumps_model = Model(model=sas_model)\n",
    "        bumps_model.eps.range(1.0,20.0)\n",
    "\n",
    "    bumps_model.d_penetration.range(0.75, 1.0)    \n",
    "    bumps_model.scale.range(1e-15, 1e-5)\n",
    "    # use default bounds\n",
    "    bumps_model.v_core.fixed = False \n",
    "    bumps_model.v_corona.fixed = False\n",
    "    bumps_model.n_aggreg.fixed = True\n",
    "    # use fixed values\n",
    "    bumps_model.background.fixed = True \n",
    "    bumps_model.background.value = 0.0\n",
    "    bumps_model.sld_core.fixed = True \n",
    "    bumps_model.sld_core.value = SLD_CORE\n",
    "    bumps_model.sld_corona.fixed = True \n",
    "    bumps_model.sld_corona.value = SLD_CORONA\n",
    "    bumps_model.sld_solvent.fixed = True \n",
    "\n",
    "    return sas_model, bumps_model\n"
   ]
  },
  {
   "cell_type": "code",
   "execution_count": 107,
   "metadata": {},
   "outputs": [],
   "source": [
    "sas_model, bumps_model = setup_model('sph')"
   ]
  },
  {
   "cell_type": "code",
   "execution_count": 108,
   "metadata": {},
   "outputs": [],
   "source": [
    "free = FreeVariables(names=['data_%d'%i for i in range(len(datasets))],\n",
    "                     radius_core = bumps_model.radius_core,\n",
    "                     radius_core_pd = bumps_model.radius_core_pd,\n",
    "                     rg = bumps_model.rg,\n",
    "                     )\n",
    "free.radius_core.range(20.0, 200.0)\n",
    "free.radius_core_pd.range(0.0, 0.5)\n",
    "free.rg.range(0.0, 200.0)"
   ]
  },
  {
   "cell_type": "code",
   "execution_count": 109,
   "metadata": {},
   "outputs": [],
   "source": [
    "# Setup the experiments, sharing the same model across all datasets.\n",
    "M = [Experiment(data=data, model=bumps_model, name='data_%d'%i) for i,data in enumerate(datasets)]\n",
    "problem = FitProblem(M, freevars=free)"
   ]
  },
  {
   "cell_type": "code",
   "execution_count": 110,
   "metadata": {},
   "outputs": [
    {
     "name": "stdout",
     "output_type": "stream",
     "text": [
      "step 1 cost 1584.423(20)\n",
      "                      data_0 radius_core .|........    44.8813 in (20,200)\n",
      "                      data_1 radius_core .....|....    118.283 in (20,200)\n",
      "                   data_0 radius_core_pd .......|..   0.361853 in (0,0.5)\n",
      "                   data_1 radius_core_pd .|........  0.0875367 in (0,0.5)\n",
      "                               data_0 rg .........|    181.512 in (0,200)\n",
      "                               data_1 rg ......|...    139.186 in (0,200)\n",
      "                           d_penetration ....|.....   0.856772 in (0.75,1)\n",
      "                                   scale ......|... 6.77306e-06 in (1e-15,1e-05)\n",
      "                                  v_core .......|..    8068.39 in (0,inf)\n",
      "                                v_corona .......|..    6172.76 in (0,inf)\n",
      "step 2 cost 1584.423(20)\n",
      "step 3 cost 1584.423(20)\n",
      "step 4 cost 1584.423(20)\n",
      "final chisq 1584.423(20)\n",
      "=== Uncertainty from curvature:     name   value(unc.) ===\n",
      "                      data_0 radius_core   44.881(59)     \n",
      "                      data_1 radius_core   118.28(15)     \n",
      "                   data_0 radius_core_pd   0.3619(21)     \n",
      "                   data_1 radius_core_pd   0.0875(19)     \n",
      "                               data_0 rg   182(30)        \n",
      "                               data_1 rg   139(22)        \n",
      "                           d_penetration   0.86(15)       \n",
      "                                   scale   6.77(24)e-6    \n",
      "                                  v_core   0.01(12)e6     \n",
      "                                v_corona   0.006(92)e6    \n",
      "==========================================================\n",
      "Final fitting parameters for :  D50F25b_10dTHF75.sub\n",
      "Parameter Name\tFitted value\n",
      "scale \t 6.77e-06\n",
      "v_core \t 8.07e+03\n",
      "v_corona \t 6.17e+03\n",
      "d_penetration \t 8.57e-01\n"
     ]
    }
   ],
   "source": [
    "from bumps.fitters import *  \n",
    "\n",
    "driver = FitDriver(fitclass=DEFit, problem=problem, mapper=None, steps=NUM_STEPS)\n",
    "driver.clip() # make sure fit starts within domain\n",
    "x0 = problem.getp()\n",
    "x, fx = driver.fit()\n",
    "problem.setp(x)\n",
    "dx = driver.stderr()\n",
    "print(\"final chisq\", problem.chisq_str())\n",
    "driver.show_err() \n",
    "print('Final fitting parameters for : ', fname)\n",
    "print('Parameter Name\\tFitted value')\n",
    "for key, param in bumps_model.parameters().items():\n",
    "    if not param.fixed:\n",
    "        print(key, '\\t', '%.2e'%param.value)"
   ]
  },
  {
   "cell_type": "code",
   "execution_count": 114,
   "metadata": {},
   "outputs": [
    {
     "name": "stdout",
     "output_type": "stream",
     "text": [
      "scale 6.773063095337969e-06\n",
      "v_core 8068.39238120536\n",
      "v_corona 6172.756368640786\n",
      "d_penetration 0.8567717211734434\n",
      "scale 6.773063095337969e-06\n",
      "v_core 8068.39238120536\n",
      "v_corona 6172.756368640786\n",
      "d_penetration 0.8567717211734434\n"
     ]
    }
   ],
   "source": [
    "for model in problem.model_parameters()[\"models\"]:\n",
    "    for name, param in model.items():\n",
    "        if not param.fixed:\n",
    "            print(name, param.value)"
   ]
  },
  {
   "cell_type": "code",
   "execution_count": 123,
   "metadata": {},
   "outputs": [
    {
     "name": "stdout",
     "output_type": "stream",
     "text": [
      "data_0 radius_core 44.881309283157215\n",
      "data_1 radius_core 118.28329049315936\n",
      "data_0 radius_core_pd 0.3618533688553785\n",
      "data_1 radius_core_pd 0.08753671811856878\n",
      "data_0 rg 181.5116347607419\n",
      "data_1 rg 139.1862251855417\n"
     ]
    }
   ],
   "source": [
    "for name, param in problem.model_parameters()[\"freevars\"].items():\n",
    "    for p in param:\n",
    "        print(p.name, p.value)"
   ]
  },
  {
   "cell_type": "code",
   "execution_count": null,
   "metadata": {},
   "outputs": [],
   "source": []
  }
 ],
 "metadata": {
  "kernelspec": {
   "display_name": "micelles",
   "language": "python",
   "name": "python3"
  },
  "language_info": {
   "codemirror_mode": {
    "name": "ipython",
    "version": 3
   },
   "file_extension": ".py",
   "mimetype": "text/x-python",
   "name": "python",
   "nbconvert_exporter": "python",
   "pygments_lexer": "ipython3",
   "version": "3.11.3"
  },
  "orig_nbformat": 4
 },
 "nbformat": 4,
 "nbformat_minor": 2
}
